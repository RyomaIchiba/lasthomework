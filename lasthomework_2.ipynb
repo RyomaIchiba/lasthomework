{
  "nbformat": 4,
  "nbformat_minor": 0,
  "metadata": {
    "colab": {
      "provenance": [],
      "include_colab_link": true
    },
    "kernelspec": {
      "name": "python3",
      "display_name": "Python 3"
    },
    "language_info": {
      "name": "python"
    }
  },
  "cells": [
    {
      "cell_type": "markdown",
      "metadata": {
        "id": "view-in-github",
        "colab_type": "text"
      },
      "source": [
        "<a href=\"https://colab.research.google.com/github/RyomaIchiba/lasthomework/blob/main/lasthomework_2.ipynb\" target=\"_parent\"><img src=\"https://colab.research.google.com/assets/colab-badge.svg\" alt=\"Open In Colab\"/></a>"
      ]
    },
    {
      "cell_type": "code",
      "execution_count": null,
      "metadata": {
        "id": "FxowQpTEVD91"
      },
      "outputs": [],
      "source": [
        "import numpy as np\n",
        "from scipy.stats import norm\n",
        "\n",
        "def tauchen(n, mu, rho, sigma):\n",
        "    # Function to implement Tauchen's method for discretizing a continuous state space\n",
        "    # Inputs:\n",
        "    # n: number of grid points\n",
        "    # mu: mean of the AR(1) process\n",
        "    # rho: AR(1) coefficient\n",
        "    # sigma: standard deviation of the error term\n",
        "    # Outputs:\n",
        "    # transition_matrix: n x n transition matrix\n",
        "    # state_space: n x 1 vector of state space points\n",
        "\n",
        "    m = 1 / np.sqrt(1 - rho**2)\n",
        "\n",
        "    # Compute the state space\n",
        "    state_space = np.linspace(mu - m*sigma, mu + m*sigma, n)\n",
        "\n",
        "    # Compute the distance between grid points\n",
        "    d = (state_space[n-1] - state_space[0]) / (n - 1)\n",
        "\n",
        "    # Compute the transition probabilities\n",
        "    transition_matrix = np.zeros((n, n))\n",
        "    for i in range(n): # today state\n",
        "        for j in range(n): # tomorrow state\n",
        "            if j == 0: # prob going to the lower limit\n",
        "                transition_matrix[i, j] = norm.cdf((state_space[0] - rho*state_space[i] + d/2) / sigma)\n",
        "            elif j == n-1: # prob going to the upper limit\n",
        "                transition_matrix[i, j] = 1 - norm.cdf((state_space[n-1] - rho*state_space[i] - d/2) / sigma)\n",
        "            else:\n",
        "                z_low = (state_space[j] - rho*state_space[i] - d/2) / sigma # the lower bound\n",
        "                z_high = (state_space[j] - rho*state_space[i] + d/2) / sigma # the higher bound\n",
        "                transition_matrix[i, j] = norm.cdf(z_high) - norm.cdf(z_low)\n",
        "\n",
        "    return transition_matrix, state_space"
      ]
    },
    {
      "cell_type": "code",
      "source": [
        "import numpy as np\n",
        "\n",
        "# function to comile parameters into one thing \"parameter\"\n",
        "def setPar(\n",
        "    sigma = 1.50, # risk aversion\n",
        "    beta = 0.98, # subjective discount factor\n",
        "    delta = 0.03, # depreciation\n",
        "    alpha = 0.25, # capital’s share of income\n",
        "    rho = 0.6, # labor productivity persistence\n",
        "    a_l = 0, # lower bound of asset grids\n",
        "    a_u = 20, # upper bound of asset grids\n",
        "    NH = 2, # number of grids of h\n",
        "    NA = 401, # number of grids of a\n",
        "    ):\n",
        "\n",
        "    # labor productivity variance.\n",
        "    sigma_eps = np.sqrt(0.6*(1-rho**2))\n",
        "\n",
        "    # making grids for ln h and solving for income transition probability using Tauchen's method.\n",
        "    pi, h = tauchen(NH, -0.7, rho, sigma_eps)\n",
        "    h = np.exp(h) # changing ln h grids to h grids\n",
        "\n",
        "    # derive the stationary distribution from income transition process\n",
        "\n",
        "    probst = np.ones((NH))/NH # setting the guess probability to a uniform distribution\n",
        "    test = 10.0 # initialize the distance to a big number\n",
        "\n",
        "    while test > 1e-8: # loop until convergence of the stationary distribution\n",
        "        probst_new = np.zeros((NH)) # initialize new distribution\n",
        "        for ih in range(NH): # today h\n",
        "            for ihp in range(NH): # tomorrow h\n",
        "                probst_new[ihp] += pi[ih, ihp]*probst[ih]\n",
        "\n",
        "        test = np.max(np.abs(probst_new - probst)) # calculate the difference between the guess and the new distribution\n",
        "        probst = probst_new # updating the guess\n",
        "\n",
        "    HH = np.sum(h*probst) # aggregate effective labor\n",
        "\n",
        "\t  # create dictionary with parameters\n",
        "    param = {}\n",
        "    param['sigma'] = sigma; param['beta'] = beta; param['delta'] = delta;\n",
        "    param['alpha'] = alpha; param['probst'] = probst;\n",
        "    param['a_l'] = a_l; param['a_u'] = a_u; param['NH'] = NH; param['NA'] = NA;\n",
        "    param['pi'] = pi; param['h'] = h; param['HH'] = HH;\n",
        "\n",
        "    return param\n"
      ],
      "metadata": {
        "id": "o6B27ts9pToO"
      },
      "execution_count": null,
      "outputs": []
    },
    {
      "cell_type": "code",
      "source": [
        "def solve_household_gs(param, r, w):\n",
        "\n",
        "    # opening the box of \"param\" to some parameters\n",
        "    a_l = param['a_l']; a_u = param['a_u']; pi = param['pi']; delta = param['delta'];\n",
        "    beta = param['beta']; sigma = param['sigma']; h = param['h']; NA = param['NA'];\n",
        "    NH = param['NH'];\n",
        "\n",
        "    # Create a grid of asset holdings\n",
        "    a = np.linspace(a_l, a_u, NA)\n",
        "\n",
        "    # Initialize the utility function to a large negative number for zero or negative consumption\n",
        "    util = np.full((NA, NA, NH), -10000.0)\n",
        "\n",
        "    # Calculate utility if the agent chooses asset a[iap] for each asset combination a[ia] and income shock h[ih]\n",
        "    for ia in range(NA):\n",
        "        for iap in range(NA):\n",
        "            for ih in range(NH):\n",
        "                cons = w*h[ih] + (1.0 + r)*a[ia] - a[iap]\n",
        "                if cons > 0: # count only if consumption is positive\n",
        "                    util[iap, ia, ih] = cons**(1.0-sigma)/(1.0-sigma)\n",
        "\n",
        "\n",
        "    # Initialize some variables\n",
        "    v = np.zeros((NA, NH))\n",
        "    aplus = np.zeros((NA, NH))\n",
        "    c = np.zeros((NA, NH))\n",
        "    v_new = np.zeros((NA, NH))\n",
        "    iaplus_new = np.full((NA, NH), -10000)\n",
        "    iaplus = np.full((NA, NH), -10000)\n",
        "    reward = np.zeros((NA, NA, NH))\n",
        "\n",
        "    # Iterate on Bellman's equation and get the decision rules and the value function at the optimum\n",
        "    test = 10\n",
        "    while test != 0: # loop until policy function converges\n",
        "        for ia in range(NA):\n",
        "            for ih in range(NH):\n",
        "                reward[:, ia, ih] = util[:, ia, ih]\n",
        "                for ihp in range(NH):\n",
        "                    reward[:, ia, ih] += beta*pi[ih, ihp]*v[:, ihp]\n",
        "\n",
        "        # Finding max of reward\n",
        "        for ia in range(NA):\n",
        "            for ih in range(NH):\n",
        "                v_new[ia, ih] = np.max(reward[:, ia, ih]) # finding the maximal value\n",
        "                iaplus_new[ia, ih] = np.argmax(reward[:, ia, ih]) # finding the index of the maximizer\n",
        "\n",
        "        test = np.max(iaplus_new - iaplus) # stop if iaplus converges\n",
        "        v = v_new\n",
        "        iaplus = iaplus_new.copy()\n",
        "\n",
        "    aplus = a[iaplus]\n",
        "\n",
        "    # optimal consumption\n",
        "    for ia in range(NA):\n",
        "        for ih in range(NH):\n",
        "            c[ia, ih] = w*h[ih] + (1.0 + r)*a[ia] - aplus[ia, ih]\n",
        "\n",
        "    return aplus, iaplus, c"
      ],
      "metadata": {
        "id": "bUt8d4FBtcGt"
      },
      "execution_count": null,
      "outputs": []
    },
    {
      "cell_type": "code",
      "source": [
        "def get_distribution(param, decisions):\n",
        "\n",
        "    a_l = param['a_l']; a_u = param['a_u']; pi = param['pi'];\n",
        "    NA = param['NA']; NH = param['NH'];\n",
        "    iaplus = decisions[1]\n",
        "\n",
        "    # Generate a linearly spaced vector of NA values between a_l and a_u\n",
        "    a = np.linspace(a_l, a_u, NA)\n",
        "\n",
        "    test = 10 # Initialize a test value to be greater than 10^-8\n",
        "    mu = np.ones((NA, NH)) / NA / NH # Initialize the distribution mu to be uniform\n",
        "\n",
        "    # Loop until the test value is less than 10^-8\n",
        "    while test > 1e-8:\n",
        "        mu_new = np.zeros((NA, NH)) # Initialize a new distribution mu_new to be all zeros\n",
        "        # Loop over all values of a, h, and h'\n",
        "        for ia in range(NA):\n",
        "            for ih in range(NH):\n",
        "                for ihp in range(NH):\n",
        "                    # Update mu_new using the interpolation indices, blending coefficients, and probabilities\n",
        "                    mu_new[iaplus[ia, ih], ihp] += pi[ih, ihp] * mu[ia, ih]\n",
        "        test = np.max(np.abs(mu_new - mu)) # Calculate the maximum difference between mu_new and mu\n",
        "        mu = mu_new # Update mu to be mu_new\n",
        "\n",
        "    return mu"
      ],
      "metadata": {
        "id": "HRvPwha8RWE3"
      },
      "execution_count": null,
      "outputs": []
    },
    {
      "cell_type": "code",
      "source": [
        "def model_solution(param):\n",
        "\n",
        "    alpha = param['alpha']\n",
        "    delta = param['delta']\n",
        "    HH = param['HH']\n",
        "\n",
        "    phi = 0.2 # updating share\n",
        "    toler = 1e-3 # warning: this doens't converge if tolerance is too small\n",
        "    test = 10 # initial difference\n",
        "    KK = 10.0 # initial capital\n",
        "\n",
        "    print('ITERATING ON KK')\n",
        "    print('')\n",
        "    print('  metric    Kold      Knew')\n",
        "\n",
        "    while test > toler:\n",
        "\n",
        "        # Step 1\n",
        "        # calculate rental rate of capital and w from firm FOC\n",
        "\n",
        "        w = (1-alpha) * KK**(alpha) * HH**(-alpha)\n",
        "        r = (alpha) * KK**(alpha-1) * HH**(1-alpha) - delta\n",
        "\n",
        "        ####################################################\n",
        "        # Step 2: Solving for households optimization (policy function of assets)\n",
        "        ####################################################\n",
        "\n",
        "        decisions = solve_household_gs(param, r, w)\n",
        "\n",
        "        aplus = decisions[0] # note that the first component (index 0) of decisions is defines as aplus\n",
        "\n",
        "        ####################################################\n",
        "        # Step 3: Loop for finding eq distribution and capital\n",
        "        ####################################################\n",
        "\n",
        "        # eq distribution\n",
        "\n",
        "        mu = get_distribution(param, decisions)\n",
        "\n",
        "        # new aggregate capital\n",
        "\n",
        "        KK_new = np.sum(mu*aplus)\n",
        "\n",
        "        ####################################################\n",
        "        # Loop for finding eq capital\n",
        "        ####################################################\n",
        "\n",
        "        # form metric and update KK\n",
        "\n",
        "        test = abs((KK_new - KK)/KK) # loop until K converges\n",
        "        print(['{:.4f}'.format(test), '{:.4f}'.format(KK), '{:.4f}'.format(KK_new)])\n",
        "        KK = phi*KK_new + (1-phi)*KK # update K\n",
        "\n",
        "    return decisions, r, w, KK, HH, mu"
      ],
      "metadata": {
        "id": "-6NfkYJ5RZdv"
      },
      "execution_count": null,
      "outputs": []
    },
    {
      "cell_type": "code",
      "source": [
        "import matplotlib.pyplot as plt\n",
        "\n",
        "param = setPar()\n",
        "(decisions, r, w, KK, HH, mu) = model_solution(param)\n",
        "\n"
      ],
      "metadata": {
        "colab": {
          "base_uri": "https://localhost:8080/"
        },
        "id": "Syk-JWzlk9aE",
        "outputId": "8abdb7d3-d968-435d-8dd1-8b50170bdc7b"
      },
      "execution_count": null,
      "outputs": [
        {
          "output_type": "stream",
          "name": "stdout",
          "text": [
            "ITERATING ON KK\n",
            "\n",
            "  metric    Kold      Knew\n",
            "['0.5521', '10.0000', '4.4794']\n",
            "['0.3771', '8.8959', '5.5410']\n",
            "['0.1315', '8.2249', '7.1431']\n",
            "['0.0205', '8.0085', '8.1730']\n",
            "['0.0025', '8.0414', '8.0614']\n",
            "['0.0015', '8.0454', '8.0337']\n",
            "['0.0023', '8.0431', '8.0614']\n",
            "['0.0031', '8.0467', '8.0219']\n",
            "['0.0024', '8.0418', '8.0614']\n",
            "['0.0091', '8.0457', '7.9724']\n",
            "['0.0117', '8.0310', '8.1249']\n",
            "['0.0083', '8.0498', '7.9828']\n",
            "['0.0039', '8.0364', '8.0676']\n",
            "['0.0005', '8.0426', '8.0386']\n"
          ]
        }
      ]
    },
    {
      "cell_type": "code",
      "source": [
        "h = param['h']\n",
        "a_l = param['a_l']; a_u = param['a_u']; NA = param['NA'];\n",
        "a = np.linspace(a_l, a_u, NA)\n",
        "\n",
        "\n",
        "# calculate income distribution for each grid\n",
        "income = np.array([(r*a + w*h[0]), (r*a + w*h[1])])\n",
        "# # transpose income\n",
        "income = income.T\n",
        "# # sorting the income after flattening \"income\"\n",
        "# pinc, index = np.sort(income.flatten('F')), np.argsort(income.flatten('F'))\n",
        "# plambda = mu.flatten('F')\n",
        "# #\n",
        "\n",
        "# sort with regard to the 1st argument of zip\n",
        "zip_lists = zip(income.flatten('F'), mu.flatten('F'))\n",
        "# sort upwards\n",
        "zip_sort = sorted(zip_lists)\n",
        "# unzip\n",
        "pinc, pmu = zip(*zip_sort)\n",
        "\n",
        "plt.plot(pinc, pmu)\n",
        "plt.title('INCOME DISTRIBUTION')\n",
        "plt.xlabel('INCOME LEVEL')\n",
        "plt.ylabel('% OF AGENTS')"
      ],
      "metadata": {
        "colab": {
          "base_uri": "https://localhost:8080/",
          "height": 489
        },
        "id": "Oi7GfrR-WkaA",
        "outputId": "58fef4ac-8e42-4e7d-8e98-72b8b77ae86f"
      },
      "execution_count": null,
      "outputs": [
        {
          "output_type": "execute_result",
          "data": {
            "text/plain": [
              "Text(0, 0.5, '% OF AGENTS')"
            ]
          },
          "metadata": {},
          "execution_count": 13
        },
        {
          "output_type": "display_data",
          "data": {
            "text/plain": [
              "<Figure size 640x480 with 1 Axes>"
            ],
            "image/png": "[encoded data removed]"
          },
          "metadata": {}
        }
      ]
    },
    {
      "cell_type": "code",
      "source": [],
      "metadata": {
        "id": "iANARxcZJwJK"
      },
      "execution_count": null,
      "outputs": []
    },
    {
      "cell_type": "code",
      "source": [
        "h = param['h']\n",
        "a_l = param['a_l']; a_u = param['a_u']; NA = param['NA'];\n",
        "a = np.linspace(a_l, a_u, NA)\n",
        "\n",
        "\n",
        "# calculate income distribution for each grid\n",
        "income = np.array([(r*a + w*h[0]), (r*a + w*h[1])])\n",
        "# # transpose income\n",
        "income = income.T\n",
        "# # sorting the income after flattening \"income\"\n",
        "# pinc, index = np.sort(income.flatten('F')), np.argsort(income.flatten('F'))\n",
        "# plambda = mu.flatten('F')\n",
        "# #\n",
        "\n",
        "# sort with regard to the 1st argument of zip\n",
        "zip_lists = zip(income.flatten('F'), mu.flatten('F'))\n",
        "# sort upwards\n",
        "zip_sort = sorted(zip_lists)\n",
        "# unzip\n",
        "pinc, a = zip(*zip_sort)\n",
        "\n",
        "plt.plot(pinc, a)\n",
        "plt.title('INCOME DISTRIBUTION')\n",
        "plt.xlabel('INCOME LEVEL')\n",
        "plt.ylabel('AGENTS')"
      ],
      "metadata": {
        "colab": {
          "base_uri": "https://localhost:8080/",
          "height": 490
        },
        "outputId": "95d001b2-e2fa-43e8-a8f6-c11d58f36f7c",
        "id": "EDwN82yzJ3WZ"
      },
      "execution_count": 17,
      "outputs": [
        {
          "output_type": "execute_result",
          "data": {
            "text/plain": [
              "Text(0, 0.5, 'AGENTS')"
            ]
          },
          "metadata": {},
          "execution_count": 17
        },
        {
          "output_type": "display_data",
          "data": {
            "text/plain": [
              "<Figure size 640x480 with 1 Axes>"
            ],
            "image/png": "[encoded data removed]"
          },
          "metadata": {}
        }
      ]
    }
  ]
}